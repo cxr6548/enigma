{
 "cells": [
  {
   "cell_type": "code",
   "execution_count": 1,
   "id": "b58809cd-ad10-4324-a47a-e9b3061f652b",
   "metadata": {},
   "outputs": [],
   "source": [
    "def rotate(templist, n):\n",
    "    \"\"\"\n",
    "    takes list, rotates by n places to the right\n",
    "    \"\"\"\n",
    "    n = n % len(templist)\n",
    "    return templist[n:] + templist[:n]\n",
    "\n",
    "def makeCipherReady(string):\n",
    "    \"\"\"\n",
    "    takes string as input, outputs caps-only no spaces or punctuation\n",
    "    \"\"\"\n",
    "    string = string.upper()\n",
    "    tempString = ''\n",
    "    for char in string:\n",
    "        if char in 'ABCDEFGHIJKLMNOPQRSTUVWXYZ':\n",
    "            tempString = tempString + char\n",
    "    return tempString\n",
    "\n",
    "def swapLetter(char,dict):\n",
    "    \"\"\"\n",
    "    takes a letter, passes it through switchboard\n",
    "    search the switchboards, find the pairing, return opposite in the pairing\n",
    "    pairs come in doublets\n",
    "    if the input does not show up, just return the input\n",
    "    \"\"\"\n",
    "\n",
    "    if char in dict:\n",
    "        switched = dict[char]    \n",
    "    else:\n",
    "        switched = char\n",
    "    return switched\n",
    "\n",
    "def thruRotors(tempchar,tempInt):\n",
    "    rotorI = 'EKMFLGDQVZNTOWYHXUSPAIBRCJ'\n",
    "    rotorII = 'AJDKSIRUXBLHWTMCQGZNPYFVOE'\n",
    "    rotorIII = 'BDFHJLCPRTXVZNYEIWGAKMUSQO'\n",
    "    rotorIV = 'ESOVPZJAYQUIRHXLNFTGKDCMWB'\n",
    "    rotorV = 'VZBRGITYUPSDNHLXAWMJQOFECK'\n",
    "    alphabet = 'ABCDEFGHIJKLMNOPQRSTUVWXYZ'\n",
    "    reflectorA = 'EJMZALYXVBWFCRQUONTSPIKHGD'\n",
    "    reflectorADict = dict(zip(alphabet,reflectorA))\n",
    "    \n",
    "    #Test if first entry in dict is notch position, then step next. No need for counter?\n",
    "    #have user specify initial rotation of each rotor 0 to 26\n",
    "    \n",
    "    #user chooses initial rotation as a number, this is fed into \n",
    "    # make workingRotorN vary with user input!\n",
    "\n",
    "    #apply rotation to rotors here\n",
    "    workingRotor1 = rotate(rotorI,tempInt)\n",
    "    \n",
    "    ################################################# begin temp modifications\n",
    "    # Is there a clever way to do this recursively? \n",
    "    #if tempInt >= 8:  # 8? Position Q of rotorI\n",
    "    #    workingRotor2 = rotate(rotorII, tempInt//26)\n",
    "    #    secondRotorCounter += 1\n",
    "     #       if secondRotorCounter >=26:\n",
    "    #################################################\n",
    "    \n",
    "    # workingRotor2 = rotorII\n",
    "    # workingRotor3 = rotorIII\n",
    "    \n",
    "\n",
    "    rotorDict1 = dict(zip(alphabet,workingRotor1))\n",
    "    reverseRotorDict1 = {val:key for (key, val) in rotorDict1.items()}\n",
    "    # rotorDict2 = dict(zip(alphabet,workingRotor2))\n",
    "    # rotorDict3 = dict(zip(alphabet,workingRotor3))\n",
    "\n",
    "    # return rotorDict1[rotorDict2[rotorDict3[rotorDict3[rotorDict2[rotorDict1[tempchar]]]]]]\n",
    "    return reverseRotorDict1[reflectorADict[rotorDict1[tempchar]]]"
   ]
  },
  {
   "cell_type": "markdown",
   "id": "94af65b8-3268-4a79-af77-a1d40dd2f7fe",
   "metadata": {
    "tags": []
   },
   "source": [
    "\n",
    "\n",
    "Start by asking for the plug pairings of the day. In the future I will also ask for rotors, their order, and initial positions.\n",
    "\n"
   ]
  },
  {
   "cell_type": "code",
   "execution_count": 2,
   "id": "29f3237d-c4eb-4fd7-9c93-0baeaf7c6bda",
   "metadata": {
    "tags": []
   },
   "outputs": [
    {
     "name": "stdout",
     "output_type": "stream",
     "text": [
      "Please input up to ten characters and their replacements, you can leave any pair blank\n"
     ]
    },
    {
     "name": "stdin",
     "output_type": "stream",
     "text": [
      "Please input the char:  a\n",
      "And its pairing:  s\n",
      "Please input the char:  u\n",
      "And its pairing:  i\n",
      "Please input the char:  d\n",
      "And its pairing:  f\n"
     ]
    },
    {
     "name": "stdout",
     "output_type": "stream",
     "text": [
      "This is the plugboard you chose:  {'A': 'S', 'U': 'I', 'D': 'F', 'S': 'A', 'I': 'U', 'F': 'D'}\n"
     ]
    }
   ],
   "source": [
    "print('Please input up to ten characters and their replacements, you can leave any pair blank')\n",
    "plugBoardPairings= {input('Please input the char: ').upper():input('And its pairing: ').upper(),\n",
    "     input('Please input the char: ').upper():input('And its pairing: ').upper(),\n",
    "     input('Please input the char: ').upper():input('And its pairing: ').upper(),\n",
    "     }\n",
    "#print(plugBoardPairings)\n",
    "plugBoardReversePairings = {val:key for (key, val) in plugBoardPairings.items()}\n",
    "#print(plugBoardReversePairings)\n",
    "plugBoardPairings.update(plugBoardReversePairings)\n",
    "plugBoard = plugBoardPairings\n",
    "print('This is the plugboard you chose: ', plugBoard)\n",
    "\n",
    "## To do: Prompt for initial rotor position as number, to be added to incrementCounter as initial position"
   ]
  },
  {
   "cell_type": "markdown",
   "id": "5ca1d422-ee9a-470a-afd8-526f89e626dd",
   "metadata": {
    "tags": []
   },
   "source": [
    "\n",
    "\n",
    "Begin the actual program.\n",
    "\n"
   ]
  },
  {
   "cell_type": "code",
   "execution_count": 3,
   "id": "bb21c564-485c-4a2d-84c8-9af619946256",
   "metadata": {
    "tags": []
   },
   "outputs": [
    {
     "name": "stdin",
     "output_type": "stream",
     "text": [
      " enter text to be encoded. No numbers or special chars:  EVNKBEAUVYD\n"
     ]
    },
    {
     "name": "stdout",
     "output_type": "stream",
     "text": [
      "The encrypted text is:  NUMBERPHILE\n"
     ]
    }
   ],
   "source": [
    "incrementCounter = 0\n",
    "encryptedText = ''\n",
    "\n",
    "\n",
    "plainText = makeCipherReady(input(' enter text to be encoded. No numbers or special chars: '))\n",
    "for c in plainText:\n",
    "    incrementCounter += 1\n",
    "    firstSwap = swapLetter(c, plugBoard)\n",
    "    rotorEncryption = thruRotors(firstSwap, incrementCounter)\n",
    "    finalSwap = swapLetter(rotorEncryption, plugBoard)\n",
    "    encryptedText = encryptedText + finalSwap          #### this is a really strange way to do it\n",
    "print('The encrypted text is: ',encryptedText)"
   ]
  }
 ],
 "metadata": {
  "kernelspec": {
   "display_name": "Python 3",
   "language": "python",
   "name": "python3"
  },
  "language_info": {
   "codemirror_mode": {
    "name": "ipython",
    "version": 3
   },
   "file_extension": ".py",
   "mimetype": "text/x-python",
   "name": "python",
   "nbconvert_exporter": "python",
   "pygments_lexer": "ipython3",
   "version": "3.8.8"
  }
 },
 "nbformat": 4,
 "nbformat_minor": 5
}
